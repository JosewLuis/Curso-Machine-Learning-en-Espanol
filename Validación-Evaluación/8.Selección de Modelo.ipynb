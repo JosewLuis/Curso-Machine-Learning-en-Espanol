{
 "cells": [
  {
   "cell_type": "markdown",
   "metadata": {},
   "source": [
    "# Selección de Modelo."
   ]
  },
  {
   "cell_type": "markdown",
   "metadata": {},
   "source": [
    "## Usando métricas de evaluación."
   ]
  },
  {
   "cell_type": "markdown",
   "metadata": {},
   "source": [
    "Entrenar/testear sobre el mismo conjunto de datos.<br>\n",
    "Entrenamiento/testeo simple.<br>\n",
    "validación cruzada."
   ]
  },
  {
   "cell_type": "markdown",
   "metadata": {},
   "source": [
    "## Entrenamiento,Validación y Testeo para la selección de modelos y evaluación."
   ]
  },
  {
   "cell_type": "markdown",
   "metadata": {},
   "source": [
    "Usamos tres tipos de datos:<br>\n",
    "* Conjunto de entrenamiento(construcción de modelo).\n",
    "* Conjunto de validación(selección de modelo).\n",
    "* Conjunto de test(evaluación final).\n",
    "\n",
    "En práctica:<br>\n",
    "* Creamos un entrenamiento/test.\n",
    "* Hacemos validación cruzada para la selección de modelo.\n",
    "* Guardamos el conjunto de datos extendido para la evaluación final del modelo."
   ]
  },
  {
   "cell_type": "code",
   "execution_count": 1,
   "metadata": {},
   "outputs": [
    {
     "name": "stdout",
     "output_type": "stream",
     "text": [
      "Cross-validation (accuracy): [0.91944444 0.98611111 0.97214485 0.97493036 0.96935933]\n",
      "Cross-validation (AUC): [0.9641871  0.9976571  0.99372205 0.99699002 0.98675611]\n",
      "Cross-validation (recall): [0.81081081 0.89189189 0.83333333 0.83333333 0.83333333]\n"
     ]
    }
   ],
   "source": [
    "%matplotlib notebook\n",
    "import numpy as np\n",
    "import pandas as pd\n",
    "import matplotlib.pyplot as plt\n",
    "from sklearn.model_selection import train_test_split\n",
    "from sklearn.datasets import load_digits\n",
    "from sklearn.svm import SVC\n",
    "from sklearn.model_selection import GridSearchCV\n",
    "from sklearn.metrics import roc_auc_score\n",
    "from sklearn.model_selection import cross_val_score\n",
    "import warnings\n",
    "warnings.filterwarnings('ignore')\n",
    "\n",
    "dataset=load_digits()\n",
    "\n",
    "X,y=dataset.data,dataset.target==1\n",
    "clf=SVC(kernel='linear',C=1)\n",
    "\n",
    "print('Cross-validation (accuracy): {}'.format(cross_val_score(clf,X,y,cv=5)))\n",
    "print('Cross-validation (AUC): {}'.format(cross_val_score(clf,X,y,cv=5,scoring='roc_auc')))\n",
    "print('Cross-validation (recall): {}'.format(cross_val_score(clf,X,y,cv=5,scoring='recall')))"
   ]
  },
  {
   "cell_type": "code",
   "execution_count": 2,
   "metadata": {},
   "outputs": [
    {
     "name": "stdout",
     "output_type": "stream",
     "text": [
      "Grid best parameter: {'gamma': 0.001}\n",
      "Grid best score: 0.9962880475129918\n",
      "Test set AUC: 0.99982858122393\n",
      "Grid best parameter (max. AUC): {'gamma': 0.001}\n",
      "Grid best score: 0.9998741278302142\n"
     ]
    }
   ],
   "source": [
    "dataset=load_digits()\n",
    "\n",
    "X,y=dataset.data,dataset.target==1\n",
    "X_train,X_test,y_train,y_test=train_test_split(X,y,random_state=0)\n",
    "\n",
    "clf=SVC(kernel='rbf')\n",
    "grid_values={'gamma':[0.001,0.01,0.05,0.1,1,10,100]}\n",
    "\n",
    "grid_clf=GridSearchCV(clf,param_grid=grid_values)\n",
    "grid_clf.fit(X_train,y_train)\n",
    "y_decision=grid_clf.decision_function(X_test)\n",
    "\n",
    "print('Grid best parameter: {}'.format(grid_clf.best_params_))\n",
    "print('Grid best score: {}'.format(grid_clf.best_score_))\n",
    "\n",
    "grid_clf_auc=GridSearchCV(clf,param_grid=grid_values,scoring='roc_auc')\n",
    "grid_clf_auc.fit(X_train,y_train)\n",
    "y_decision=grid_clf_auc.decision_function(X_test)\n",
    "\n",
    "print('Test set AUC: {}'.format(roc_auc_score(y_test,y_decision)))\n",
    "print('Grid best parameter (max. AUC): {}'.format(grid_clf_auc.best_params_))\n",
    "print('Grid best score: {}'.format(grid_clf_auc.best_score_))"
   ]
  },
  {
   "cell_type": "markdown",
   "metadata": {},
   "source": [
    "Métricas de evaluación soportadas:"
   ]
  },
  {
   "cell_type": "code",
   "execution_count": 3,
   "metadata": {},
   "outputs": [
    {
     "data": {
      "text/plain": [
       "['accuracy',\n",
       " 'adjusted_mutual_info_score',\n",
       " 'adjusted_rand_score',\n",
       " 'average_precision',\n",
       " 'balanced_accuracy',\n",
       " 'brier_score_loss',\n",
       " 'completeness_score',\n",
       " 'explained_variance',\n",
       " 'f1',\n",
       " 'f1_macro',\n",
       " 'f1_micro',\n",
       " 'f1_samples',\n",
       " 'f1_weighted',\n",
       " 'fowlkes_mallows_score',\n",
       " 'homogeneity_score',\n",
       " 'mutual_info_score',\n",
       " 'neg_log_loss',\n",
       " 'neg_mean_absolute_error',\n",
       " 'neg_mean_squared_error',\n",
       " 'neg_mean_squared_log_error',\n",
       " 'neg_median_absolute_error',\n",
       " 'normalized_mutual_info_score',\n",
       " 'precision',\n",
       " 'precision_macro',\n",
       " 'precision_micro',\n",
       " 'precision_samples',\n",
       " 'precision_weighted',\n",
       " 'r2',\n",
       " 'recall',\n",
       " 'recall_macro',\n",
       " 'recall_micro',\n",
       " 'recall_samples',\n",
       " 'recall_weighted',\n",
       " 'roc_auc',\n",
       " 'v_measure_score']"
      ]
     },
     "execution_count": 3,
     "metadata": {},
     "output_type": "execute_result"
    }
   ],
   "source": [
    "from sklearn.metrics.scorer import SCORERS\n",
    "\n",
    "sorted(list(SCORERS.keys()))"
   ]
  }
 ],
 "metadata": {
  "kernelspec": {
   "display_name": "Python 3",
   "language": "python",
   "name": "python3"
  },
  "language_info": {
   "codemirror_mode": {
    "name": "ipython",
    "version": 3
   },
   "file_extension": ".py",
   "mimetype": "text/x-python",
   "name": "python",
   "nbconvert_exporter": "python",
   "pygments_lexer": "ipython3",
   "version": "3.7.3"
  }
 },
 "nbformat": 4,
 "nbformat_minor": 2
}
