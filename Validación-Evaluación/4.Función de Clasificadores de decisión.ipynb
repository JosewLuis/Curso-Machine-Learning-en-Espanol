{
 "cells": [
  {
   "cell_type": "markdown",
   "metadata": {},
   "source": [
    "# Función de clasificadores de decisión."
   ]
  },
  {
   "cell_type": "markdown",
   "metadata": {},
   "source": [
    "## Función de decisión."
   ]
  },
  {
   "cell_type": "markdown",
   "metadata": {},
   "source": [
    "Cada puntuación del clasificador por punto de test indica lo confiable del clasificador prediciendo la clase positiva y la negativa.<br>\n",
    "Escogiendo un límite de decisión de dan reglas de clasificación.<br>\n",
    "Variando el límite de decisión a través del completo rango de valores posibles, tenemos una serie de resultados de clasificación formando una curva."
   ]
  },
  {
   "cell_type": "markdown",
   "metadata": {},
   "source": [
    "## Probabilidad."
   ]
  },
  {
   "cell_type": "markdown",
   "metadata": {},
   "source": [
    "Escoger la mejor clase.<br>\n",
    "Ajustar el límite afecta a las predicciones del clasificador.<br>\n",
    "Un límite mayor da un clasificador más conservador.<br>\n",
    "No todos los modelos dan una probabilidad realista."
   ]
  },
  {
   "cell_type": "code",
   "execution_count": 1,
   "metadata": {},
   "outputs": [
    {
     "data": {
      "text/plain": [
       "[(0, -23.17088258342193),\n",
       " (0, -13.541053288952236),\n",
       " (0, -21.718416593551964),\n",
       " (0, -18.903021446565916),\n",
       " (0, -19.72696308666915),\n",
       " (0, -9.747631932571286),\n",
       " (1, 5.2350487388481195),\n",
       " (0, -19.310539896728372),\n",
       " (0, -25.09576763273146),\n",
       " (0, -21.82518340417454),\n",
       " (0, -24.15185580001576),\n",
       " (0, -19.576861463066088),\n",
       " (0, -22.56864554003414),\n",
       " (0, -10.827492031471882),\n",
       " (0, -11.914197058659932),\n",
       " (0, -10.978198115529125),\n",
       " (1, 11.20824361914216),\n",
       " (0, -27.654781151882716),\n",
       " (0, -12.865783599965182),\n",
       " (0, -25.854666531317193)]"
      ]
     },
     "execution_count": 1,
     "metadata": {},
     "output_type": "execute_result"
    }
   ],
   "source": [
    "%matplotlib notebook\n",
    "import numpy as np\n",
    "import pandas as pd\n",
    "import matplotlib.pyplot as plt\n",
    "from sklearn.model_selection import train_test_split\n",
    "from sklearn.datasets import load_digits\n",
    "from sklearn.linear_model import LogisticRegression\n",
    "import warnings\n",
    "warnings.filterwarnings('ignore')\n",
    "\n",
    "dataset=load_digits()\n",
    "X,y=dataset.data,dataset.target\n",
    "y_binary=y.copy()\n",
    "y_binary[y_binary!=1]=0\n",
    "\n",
    "lr=LogisticRegression()\n",
    "\n",
    "X_train,X_test,y_train,y_test=train_test_split(X,y_binary,random_state=0)\n",
    "\n",
    "y_scores=lr.fit(X_train,y_train).decision_function(X_test)\n",
    "y_scores_list=list(zip(y_test[0:20],y_scores[0:20]))\n",
    "y_scores_list"
   ]
  },
  {
   "cell_type": "code",
   "execution_count": 2,
   "metadata": {},
   "outputs": [
    {
     "data": {
      "text/plain": [
       "[(0, 8.649949125021391e-11),\n",
       " (0, 1.3158146153649288e-06),\n",
       " (0, 3.696677103571555e-10),\n",
       " (0, 6.173366938935281e-09),\n",
       " (0, 2.7082502105000116e-09),\n",
       " (0, 5.842945880402522e-05),\n",
       " (1, 0.9947016571002845),\n",
       " (0, 4.107135948617545e-09),\n",
       " (0, 1.2619629306465491e-11),\n",
       " (0, 3.3223339250956905e-10),\n",
       " (0, 3.243263976547856e-11),\n",
       " (0, 3.146857609814727e-09),\n",
       " (0, 1.5796532955257757e-10),\n",
       " (0, 1.9845924682166134e-05),\n",
       " (0, 6.694637311556768e-06),\n",
       " (0, 1.706953631590964e-05),\n",
       " (1, 0.999986438249366),\n",
       " (0, 9.765200113366106e-13),\n",
       " (0, 2.584997066125651e-06),\n",
       " (0, 5.908278981970445e-12)]"
      ]
     },
     "execution_count": 2,
     "metadata": {},
     "output_type": "execute_result"
    }
   ],
   "source": [
    "X_train,X_test,y_train,y_test=train_test_split(X,y_binary,random_state=0)\n",
    "\n",
    "y_prob=lr.fit(X_train,y_train).predict_proba(X_test)\n",
    "y_proba_list=list(zip(y_test[0:20],y_prob[0:20,1]))\n",
    "\n",
    "def sortSecond(val): \n",
    "    return val[1] \n",
    "\n",
    "y_proba_list"
   ]
  },
  {
   "cell_type": "markdown",
   "metadata": {},
   "source": [
    "Variando la frontera de decisión:<br>\n",
    "<a href=\"https://imgur.com/Usn3yXF\"><img src=\"https://i.imgur.com/Usn3yXF.png\" title=\"source: imgur.com\" /></a>"
   ]
  }
 ],
 "metadata": {
  "kernelspec": {
   "display_name": "Python 3",
   "language": "python",
   "name": "python3"
  },
  "language_info": {
   "codemirror_mode": {
    "name": "ipython",
    "version": 3
   },
   "file_extension": ".py",
   "mimetype": "text/x-python",
   "name": "python",
   "nbconvert_exporter": "python",
   "pygments_lexer": "ipython3",
   "version": "3.7.3"
  }
 },
 "nbformat": 4,
 "nbformat_minor": 2
}
