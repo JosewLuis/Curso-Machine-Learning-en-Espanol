{
 "cells": [
  {
   "cell_type": "markdown",
   "metadata": {},
   "source": [
    "# Selección y Evaluación del modelo."
   ]
  },
  {
   "cell_type": "markdown",
   "metadata": {},
   "source": [
    "El objetivo es aprender cómo usar una variedad de métodos de evaluación para evaluar modelos de ML supervidado.<br>\n",
    "Debemos escoger el modelo adecuado."
   ]
  },
  {
   "cell_type": "markdown",
   "metadata": {},
   "source": [
    "## Representación/Entrenamiento/Evaluación/Ciclo de refinado.\n",
    "\n",
    "<a href=\"https://imgur.com/wjqZLLp\"><img src=\"https://i.imgur.com/wjqZLLp.png\" title=\"source: imgur.com\" /></a>"
   ]
  },
  {
   "cell_type": "markdown",
   "metadata": {},
   "source": [
    "## Evaluación."
   ]
  },
  {
   "cell_type": "markdown",
   "metadata": {},
   "source": [
    "Diferentes aplicaciones pueden tener diferentes objetivos, luego es importante escoger un método de evaluación que logre el objetivo de la apliacación.<br>\n",
    "Hay que probar el método sobre diferentes modelos y escoger el que mejor evaluación tenga."
   ]
  },
  {
   "cell_type": "code",
   "execution_count": 1,
   "metadata": {},
   "outputs": [
    {
     "name": "stdout",
     "output_type": "stream",
     "text": [
      "0 178\n",
      "1 182\n",
      "2 177\n",
      "3 183\n",
      "4 181\n",
      "5 182\n",
      "6 181\n",
      "7 179\n",
      "8 174\n",
      "9 180\n"
     ]
    }
   ],
   "source": [
    "%matplotlib notebook\n",
    "import numpy as np\n",
    "import pandas as pd\n",
    "import seaborn as sns\n",
    "import matplotlib.pyplot as plt\n",
    "from sklearn.model_selection import train_test_split\n",
    "from sklearn.datasets import load_digits\n",
    "import warnings\n",
    "warnings.filterwarnings('ignore')\n",
    "\n",
    "dataset=load_digits()\n",
    "X,y=dataset.data,dataset.target\n",
    "\n",
    "for class_name,class_count in zip(dataset.target_names,np.bincount(dataset.target)):\n",
    "    print(class_name,class_count)"
   ]
  },
  {
   "cell_type": "code",
   "execution_count": 2,
   "metadata": {},
   "outputs": [
    {
     "name": "stdout",
     "output_type": "stream",
     "text": [
      "Original labels:  [1 2 3 4 5 6 7 8 9 0 1 2 3 4 5 6 7 8 9 0 1 2 3 4 5 6 7 8 9]\n",
      "Binary labels:  [1 0 0 0 0 0 0 0 0 0 1 0 0 0 0 0 0 0 0 0 1 0 0 0 0 0 0 0 0]\n"
     ]
    }
   ],
   "source": [
    "y_binary=y.copy()\n",
    "y_binary[y_binary!=1]=0\n",
    "\n",
    "print('Original labels: ',y[1:30])\n",
    "print('Binary labels: ',y_binary[1:30])"
   ]
  },
  {
   "cell_type": "code",
   "execution_count": 3,
   "metadata": {},
   "outputs": [
    {
     "data": {
      "text/plain": [
       "array([1615,  182], dtype=int64)"
      ]
     },
     "execution_count": 3,
     "metadata": {},
     "output_type": "execute_result"
    }
   ],
   "source": [
    "np.bincount(y_binary)"
   ]
  },
  {
   "cell_type": "code",
   "execution_count": 4,
   "metadata": {},
   "outputs": [
    {
     "data": {
      "text/plain": [
       "0.9088888888888889"
      ]
     },
     "execution_count": 4,
     "metadata": {},
     "output_type": "execute_result"
    }
   ],
   "source": [
    "from sklearn.svm import SVC\n",
    "\n",
    "X_train,X_test,y_train,y_test=train_test_split(X,y_binary,random_state=0)\n",
    "\n",
    "svm=SVC(kernel='rbf',C=1).fit(X_train,y_train)\n",
    "svm.score(X_test,y_test)"
   ]
  },
  {
   "cell_type": "markdown",
   "metadata": {},
   "source": [
    "## Precisión con clases imbalanceadas."
   ]
  },
  {
   "cell_type": "markdown",
   "metadata": {},
   "source": [
    "Tenemos dos clases:<br>\n",
    "* Relevante(R).\n",
    "* No relevante(N).\n",
    "\n",
    "\\begin{equation*}\n",
    "    Precisión=\\frac{Predicciones\\,correctas}{Total\\,instancias}.\n",
    "\\end{equation*}"
   ]
  },
  {
   "cell_type": "markdown",
   "metadata": {},
   "source": [
    "## Clasificadores dummy."
   ]
  },
  {
   "cell_type": "markdown",
   "metadata": {},
   "source": [
    "Un clasificador dummy predice a ciegas la clase más frecuente. Es útil per no debe ser usado en problemas reales como solución.<br>\n",
    "Como es odvio, nuestro clasificador $\\textbf{debe ser mejor}$ que el dummy.<br>\n",
    "Pueden usar otras estrategias de predicción como:<br>\n",
    "* most_frequent.\n",
    "* stratified: Predicciones aleatorias basadas en la distribución de clases del conjunto training.\n",
    "* uniform: Genera una prediccion uniformemente al azar.\n",
    "* constant: Siempre predice una etiqueta constante indicada por el usuario.\n",
    "\n",
    "Como es lógico, también existe los regresores dummy, cuyas estrategias son:<br>\n",
    "* mean.\n",
    "* median.\n",
    "* quantile: Percentil indicado por el usuario.\n",
    "* constant."
   ]
  },
  {
   "cell_type": "markdown",
   "metadata": {},
   "source": [
    "## Resultados de la predicción binaria."
   ]
  },
  {
   "cell_type": "markdown",
   "metadata": {},
   "source": [
    "<a href=\"https://imgur.com/Uzyibly\"><img src=\"https://i.imgur.com/Uzyibly.png\" title=\"source: imgur.com\" /></a>"
   ]
  },
  {
   "cell_type": "markdown",
   "metadata": {},
   "source": [
    "Esto da lugar a una matriz de confusión:<br>\n",
    "<a href=\"https://imgur.com/lO3W0Xi\"><img src=\"https://i.imgur.com/lO3W0Xi.png\" title=\"source: imgur.com\" /></a>"
   ]
  },
  {
   "cell_type": "code",
   "execution_count": 5,
   "metadata": {},
   "outputs": [
    {
     "name": "stdout",
     "output_type": "stream",
     "text": [
      "Usando most-frequent class dummy: \n",
      " [[407   0]\n",
      " [ 43   0]]\n"
     ]
    }
   ],
   "source": [
    "from sklearn.metrics import confusion_matrix\n",
    "from sklearn.dummy import DummyClassifier\n",
    "\n",
    "dummy=DummyClassifier(strategy='most_frequent').fit(X_train,y_train)\n",
    "\n",
    "y_pred=dummy.predict(X_test)\n",
    "confusion=confusion_matrix(y_test,y_pred)\n",
    "print('Usando most-frequent class dummy: \\n',confusion)"
   ]
  },
  {
   "cell_type": "code",
   "execution_count": 6,
   "metadata": {},
   "outputs": [
    {
     "name": "stdout",
     "output_type": "stream",
     "text": [
      "Usando strategy dummy: \n",
      " [[360  47]\n",
      " [ 41   2]]\n"
     ]
    }
   ],
   "source": [
    "dummy_stratified=DummyClassifier(strategy='stratified').fit(X_train,y_train)\n",
    "\n",
    "y_pred=dummy_stratified.predict(X_test)\n",
    "confusion=confusion_matrix(y_test,y_pred)\n",
    "print('Usando strategy dummy: \\n',confusion)"
   ]
  },
  {
   "cell_type": "code",
   "execution_count": 7,
   "metadata": {},
   "outputs": [
    {
     "name": "stdout",
     "output_type": "stream",
     "text": [
      "Puntuacion:  0.9777777777777777\n",
      "Usando SVC lineal: \n",
      " [[402   5]\n",
      " [  5  38]]\n"
     ]
    }
   ],
   "source": [
    "svm=SVC(kernel='linear',C=1).fit(X_train,y_train)\n",
    "print('Puntuacion: ',svm.score(X_test,y_test))\n",
    "confusion=confusion_matrix(y_test,svm.predict(X_test))\n",
    "print('Usando SVC lineal: \\n',confusion)"
   ]
  }
 ],
 "metadata": {
  "kernelspec": {
   "display_name": "Python 3",
   "language": "python",
   "name": "python3"
  },
  "language_info": {
   "codemirror_mode": {
    "name": "ipython",
    "version": 3
   },
   "file_extension": ".py",
   "mimetype": "text/x-python",
   "name": "python",
   "nbconvert_exporter": "python",
   "pygments_lexer": "ipython3",
   "version": "3.7.3"
  }
 },
 "nbformat": 4,
 "nbformat_minor": 2
}
