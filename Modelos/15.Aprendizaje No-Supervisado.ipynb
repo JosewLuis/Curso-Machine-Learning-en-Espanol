{
 "cells": [
  {
   "cell_type": "markdown",
   "metadata": {},
   "source": [
    "# Aprendizaje No-Supervisado."
   ]
  },
  {
   "cell_type": "markdown",
   "metadata": {},
   "source": [
    "Involucra tareas que operan en conjuntos de ddatos sin respuestas etiquetadas o valores objetivos. El ojetivo es capturar estructuras interesantes o información.<br>\n",
    "Aplicaciones:<br>\n",
    "* Visualizar una estructura de datos compleja.\n",
    "* Estimación de densidad para predecir probabilidades.\n",
    "* Comprimir los datos.\n",
    "* Extraer características para aprendizaje supervisado.\n",
    "* Describir importantes grupos."
   ]
  },
  {
   "cell_type": "markdown",
   "metadata": {},
   "source": [
    "Los dos métodos más importantes son:<br>\n",
    "* Transformaciones: Proceso de extraer información.\n",
    "* Clustering: Encontrar grupos en los datos y asignar cada punto a un grupo."
   ]
  }
 ],
 "metadata": {
  "kernelspec": {
   "display_name": "Python 3",
   "language": "python",
   "name": "python3"
  },
  "language_info": {
   "codemirror_mode": {
    "name": "ipython",
    "version": 3
   },
   "file_extension": ".py",
   "mimetype": "text/x-python",
   "name": "python",
   "nbconvert_exporter": "python",
   "pygments_lexer": "ipython3",
   "version": "3.7.3"
  }
 },
 "nbformat": 4,
 "nbformat_minor": 2
}
