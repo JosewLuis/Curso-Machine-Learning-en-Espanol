{
 "cells": [
  {
   "cell_type": "markdown",
   "metadata": {},
   "source": [
    "# Clasificación Multi-Clase."
   ]
  },
  {
   "cell_type": "markdown",
   "metadata": {},
   "source": [
    "Como el nombre indica, es un método para clasificar datasets con más de 2 clases."
   ]
  },
  {
   "cell_type": "code",
   "execution_count": 1,
   "metadata": {},
   "outputs": [
    {
     "name": "stderr",
     "output_type": "stream",
     "text": [
      "C:\\Users\\jlxdp\\Anaconda3\\lib\\site-packages\\ipykernel_launcher.py:10: FutureWarning: read_table is deprecated, use read_csv instead, passing sep='\\t'.\n",
      "  # Remove the CWD from sys.path while we load stuff.\n"
     ]
    }
   ],
   "source": [
    "%matplotlib notebook\n",
    "import numpy as np\n",
    "import pandas as pd\n",
    "import matplotlib.pyplot as plt\n",
    "from sklearn.svm import SVC\n",
    "from sklearn.model_selection import train_test_split\n",
    "\n",
    "#Tomamos el dataset que usaremos:\n",
    "fruits=pd.read_table('fruit_data_with_colors.txt')\n",
    "\n",
    "X_fruits_2d=fruits[['height', 'width']]\n",
    "y_fruits_2d=fruits['fruit_label']"
   ]
  },
  {
   "cell_type": "code",
   "execution_count": 2,
   "metadata": {},
   "outputs": [
    {
     "name": "stderr",
     "output_type": "stream",
     "text": [
      "C:\\Users\\jlxdp\\Anaconda3\\lib\\site-packages\\sklearn\\svm\\base.py:931: ConvergenceWarning: Liblinear failed to converge, increase the number of iterations.\n",
      "  \"the number of iterations.\", ConvergenceWarning)\n"
     ]
    },
    {
     "data": {
      "text/plain": [
       "LinearSVC(C=5, class_weight=None, dual=True, fit_intercept=True,\n",
       "     intercept_scaling=1, loss='squared_hinge', max_iter=1000,\n",
       "     multi_class='ovr', penalty='l2', random_state=67, tol=0.0001,\n",
       "     verbose=0)"
      ]
     },
     "execution_count": 2,
     "metadata": {},
     "output_type": "execute_result"
    }
   ],
   "source": [
    "from adspy_shared_utilities import plot_class_regions_for_classifier_subplot\n",
    "from sklearn.svm import LinearSVC\n",
    "\n",
    "X_train,X_test,y_train,y_test=train_test_split(X_fruits_2d,y_fruits_2d)\n",
    "\n",
    "svm=LinearSVC(C=5,random_state=67)\n",
    "svm.fit(X_train,y_train)"
   ]
  },
  {
   "cell_type": "markdown",
   "metadata": {},
   "source": [
    "Veamos el resultado."
   ]
  },
  {
   "cell_type": "code",
   "execution_count": 3,
   "metadata": {},
   "outputs": [
    {
     "name": "stdout",
     "output_type": "stream",
     "text": [
      "[[-0.30470481  0.51284339]\n",
      " [-1.63356808  1.14598843]\n",
      " [-0.08705913  0.37564613]\n",
      " [ 1.68994343 -2.03114177]]\n",
      "[-1.96946116  1.20273085 -2.74817389  0.30410929]\n"
     ]
    }
   ],
   "source": [
    "print(svm.coef_)\n",
    "print(svm.intercept_)"
   ]
  },
  {
   "cell_type": "markdown",
   "metadata": {},
   "source": [
    "Analizemos un ejemplos, en este caso de la clase 1 apple:<br>\n",
    "\\begin{equation*}\n",
    "    y_{apple}=-0.3*height+0.51*width-1.97\n",
    "\\end{equation*}<br>\n",
    "h=2. w=6.<br>\n",
    "\\begin{equation*}\n",
    "    y_{apple}=-0.3*2+0.51*6-1.97\\;(>=0: apple)\n",
    "\\end{equation*}<br>\n",
    "h=2. w=2.<br>\n",
    "\\begin{equation*}\n",
    "    y_{apple}=-0.3*2+0.51*2-1.97\\;(<0: not\\;an\\;apple)\n",
    "\\end{equation*}<br>"
   ]
  }
 ],
 "metadata": {
  "kernelspec": {
   "display_name": "Python 3",
   "language": "python",
   "name": "python3"
  },
  "language_info": {
   "codemirror_mode": {
    "name": "ipython",
    "version": 3
   },
   "file_extension": ".py",
   "mimetype": "text/x-python",
   "name": "python",
   "nbconvert_exporter": "python",
   "pygments_lexer": "ipython3",
   "version": "3.7.3"
  }
 },
 "nbformat": 4,
 "nbformat_minor": 2
}
